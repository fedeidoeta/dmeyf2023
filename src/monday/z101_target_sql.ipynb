{
 "cells": [
  {
   "cell_type": "markdown",
   "metadata": {},
   "source": [
    "# Crear Target\n",
    "\n",
    "## Ejercicio 1:\n",
    "Cree el archivo `competencia_01.csv`, usando el `competencia_01_crudo.csv` con una variable adicional llamada `clase_ternaria`, que contenga las categorías **CONTINUA**, **BAJA+1** y **BAJA+2** \n",
    "\n",
    "### Ayudita \n",
    "\n",
    "Para practicar el muy útil y necesario lenguaje **SQL**, vamos a utilizar una base de datos **OLAP** llamada **DuckDB**. \n",
    "\n",
    "La documentación la puede encontrar [aquí](https://duckdb.org/docs/archive/0.8.1/sql/introduction)\n",
    "Procedemos a instalarla, esto se debe ejecutar una sola vez"
   ]
  },
  {
   "cell_type": "code",
   "execution_count": 1,
   "metadata": {},
   "outputs": [],
   "source": [
    "#%%bash \n",
    "#%pip install duckdb\n",
    "#%pip install jupysql\n",
    "#%pip install duckdb-engine"
   ]
  },
  {
   "cell_type": "markdown",
   "metadata": {},
   "source": [
    "Configuramos el entorno de ejecución. Si ya tiene todo instalado, solo necesita ejecutar esta celda para empezar a usar **duckdb** "
   ]
  },
  {
   "cell_type": "code",
   "execution_count": 1,
   "metadata": {},
   "outputs": [],
   "source": [
    "import duckdb\n",
    "import pandas as pd\n",
    "\n",
    "%load_ext sql\n",
    "%config SqlMagic.autopandas = True\n",
    "%config SqlMagic.feedback = False\n",
    "%config SqlMagic.displaycon = False\n",
    "\n",
    "%sql duckdb:///:default:"
   ]
  },
  {
   "cell_type": "markdown",
   "metadata": {},
   "source": [
    "Y ya podemos usar **SQL** dentro de una notebook!"
   ]
  },
  {
   "cell_type": "code",
   "execution_count": 2,
   "metadata": {},
   "outputs": [
    {
     "data": {
      "text/html": [
       "<div>\n",
       "<style scoped>\n",
       "    .dataframe tbody tr th:only-of-type {\n",
       "        vertical-align: middle;\n",
       "    }\n",
       "\n",
       "    .dataframe tbody tr th {\n",
       "        vertical-align: top;\n",
       "    }\n",
       "\n",
       "    .dataframe thead th {\n",
       "        text-align: right;\n",
       "    }\n",
       "</style>\n",
       "<table border=\"1\" class=\"dataframe\">\n",
       "  <thead>\n",
       "    <tr style=\"text-align: right;\">\n",
       "      <th></th>\n",
       "      <th>'hola mundo'</th>\n",
       "    </tr>\n",
       "  </thead>\n",
       "  <tbody>\n",
       "    <tr>\n",
       "      <th>0</th>\n",
       "      <td>hola mundo</td>\n",
       "    </tr>\n",
       "  </tbody>\n",
       "</table>\n",
       "</div>"
      ],
      "text/plain": [
       "  'hola mundo'\n",
       "0   hola mundo"
      ]
     },
     "execution_count": 2,
     "metadata": {},
     "output_type": "execute_result"
    }
   ],
   "source": [
    "%%sql\n",
    "select 'hola mundo' "
   ]
  },
  {
   "cell_type": "markdown",
   "metadata": {},
   "source": [
    "Para cargar el archivo `.csv` a una tabla:"
   ]
  },
  {
   "cell_type": "code",
   "execution_count": 3,
   "metadata": {},
   "outputs": [
    {
     "data": {
      "text/html": [
       "<div>\n",
       "<style scoped>\n",
       "    .dataframe tbody tr th:only-of-type {\n",
       "        vertical-align: middle;\n",
       "    }\n",
       "\n",
       "    .dataframe tbody tr th {\n",
       "        vertical-align: top;\n",
       "    }\n",
       "\n",
       "    .dataframe thead th {\n",
       "        text-align: right;\n",
       "    }\n",
       "</style>\n",
       "<table border=\"1\" class=\"dataframe\">\n",
       "  <thead>\n",
       "    <tr style=\"text-align: right;\">\n",
       "      <th></th>\n",
       "      <th>Success</th>\n",
       "    </tr>\n",
       "  </thead>\n",
       "  <tbody>\n",
       "  </tbody>\n",
       "</table>\n",
       "</div>"
      ],
      "text/plain": [
       "Empty DataFrame\n",
       "Columns: [Success]\n",
       "Index: []"
      ]
     },
     "execution_count": 3,
     "metadata": {},
     "output_type": "execute_result"
    }
   ],
   "source": [
    "%%sql\n",
    "create or replace table competencia_01 as \n",
    "select \n",
    "    *\n",
    "from read_csv_auto('C:\\Users\\feder\\Documents\\Maestria_en_Ciencia_de_datos\\4_DM_en_Economia_y_Finanzas\\datasets/competencia_01_crudo.csv')"
   ]
  },
  {
   "cell_type": "markdown",
   "metadata": {},
   "source": [
    "Hagamos unas queries básicas para comprobar que todo esta funcionando bien."
   ]
  },
  {
   "cell_type": "code",
   "execution_count": 4,
   "metadata": {},
   "outputs": [
    {
     "data": {
      "text/html": [
       "<div>\n",
       "<style scoped>\n",
       "    .dataframe tbody tr th:only-of-type {\n",
       "        vertical-align: middle;\n",
       "    }\n",
       "\n",
       "    .dataframe tbody tr th {\n",
       "        vertical-align: top;\n",
       "    }\n",
       "\n",
       "    .dataframe thead th {\n",
       "        text-align: right;\n",
       "    }\n",
       "</style>\n",
       "<table border=\"1\" class=\"dataframe\">\n",
       "  <thead>\n",
       "    <tr style=\"text-align: right;\">\n",
       "      <th></th>\n",
       "      <th>numero_de_cliente</th>\n",
       "      <th>foto_mes</th>\n",
       "      <th>active_quarter</th>\n",
       "      <th>cliente_vip</th>\n",
       "      <th>internet</th>\n",
       "      <th>cliente_edad</th>\n",
       "      <th>cliente_antiguedad</th>\n",
       "      <th>mrentabilidad</th>\n",
       "      <th>mrentabilidad_annual</th>\n",
       "      <th>mcomisiones</th>\n",
       "      <th>...</th>\n",
       "      <th>Visa_madelantodolares</th>\n",
       "      <th>Visa_fultimo_cierre</th>\n",
       "      <th>Visa_mpagado</th>\n",
       "      <th>Visa_mpagospesos</th>\n",
       "      <th>Visa_mpagosdolares</th>\n",
       "      <th>Visa_fechaalta</th>\n",
       "      <th>Visa_mconsumototal</th>\n",
       "      <th>Visa_cconsumos</th>\n",
       "      <th>Visa_cadelantosefectivo</th>\n",
       "      <th>Visa_mpagominimo</th>\n",
       "    </tr>\n",
       "  </thead>\n",
       "  <tbody>\n",
       "    <tr>\n",
       "      <th>0</th>\n",
       "      <td>29183981</td>\n",
       "      <td>202103</td>\n",
       "      <td>1</td>\n",
       "      <td>0</td>\n",
       "      <td>0</td>\n",
       "      <td>50</td>\n",
       "      <td>197</td>\n",
       "      <td>14468.81</td>\n",
       "      <td>125765.29</td>\n",
       "      <td>2389.82</td>\n",
       "      <td>...</td>\n",
       "      <td>0.0</td>\n",
       "      <td>7</td>\n",
       "      <td>0.00</td>\n",
       "      <td>-114954.00</td>\n",
       "      <td>0.00</td>\n",
       "      <td>5938</td>\n",
       "      <td>101050.66</td>\n",
       "      <td>68</td>\n",
       "      <td>0</td>\n",
       "      <td>71811.06</td>\n",
       "    </tr>\n",
       "    <tr>\n",
       "      <th>1</th>\n",
       "      <td>29184630</td>\n",
       "      <td>202103</td>\n",
       "      <td>1</td>\n",
       "      <td>0</td>\n",
       "      <td>0</td>\n",
       "      <td>59</td>\n",
       "      <td>322</td>\n",
       "      <td>11901.57</td>\n",
       "      <td>74158.93</td>\n",
       "      <td>18750.68</td>\n",
       "      <td>...</td>\n",
       "      <td>0.0</td>\n",
       "      <td>1</td>\n",
       "      <td>0.00</td>\n",
       "      <td>-40330.15</td>\n",
       "      <td>17.59</td>\n",
       "      <td>4089</td>\n",
       "      <td>26834.09</td>\n",
       "      <td>7</td>\n",
       "      <td>0</td>\n",
       "      <td>3894.36</td>\n",
       "    </tr>\n",
       "    <tr>\n",
       "      <th>2</th>\n",
       "      <td>29185433</td>\n",
       "      <td>202103</td>\n",
       "      <td>1</td>\n",
       "      <td>0</td>\n",
       "      <td>0</td>\n",
       "      <td>68</td>\n",
       "      <td>268</td>\n",
       "      <td>847.15</td>\n",
       "      <td>21672.47</td>\n",
       "      <td>481.62</td>\n",
       "      <td>...</td>\n",
       "      <td>0.0</td>\n",
       "      <td>21</td>\n",
       "      <td>4692.00</td>\n",
       "      <td>-1173.00</td>\n",
       "      <td>0.00</td>\n",
       "      <td>7829</td>\n",
       "      <td>1651.36</td>\n",
       "      <td>3</td>\n",
       "      <td>0</td>\n",
       "      <td>1560.09</td>\n",
       "    </tr>\n",
       "    <tr>\n",
       "      <th>3</th>\n",
       "      <td>29185587</td>\n",
       "      <td>202103</td>\n",
       "      <td>1</td>\n",
       "      <td>0</td>\n",
       "      <td>0</td>\n",
       "      <td>79</td>\n",
       "      <td>322</td>\n",
       "      <td>4976.94</td>\n",
       "      <td>47735.98</td>\n",
       "      <td>1839.31</td>\n",
       "      <td>...</td>\n",
       "      <td>0.0</td>\n",
       "      <td>1</td>\n",
       "      <td>0.00</td>\n",
       "      <td>-15988.67</td>\n",
       "      <td>0.00</td>\n",
       "      <td>7580</td>\n",
       "      <td>30025.29</td>\n",
       "      <td>11</td>\n",
       "      <td>0</td>\n",
       "      <td>1700.85</td>\n",
       "    </tr>\n",
       "    <tr>\n",
       "      <th>4</th>\n",
       "      <td>29185646</td>\n",
       "      <td>202103</td>\n",
       "      <td>1</td>\n",
       "      <td>0</td>\n",
       "      <td>0</td>\n",
       "      <td>60</td>\n",
       "      <td>257</td>\n",
       "      <td>2860.45</td>\n",
       "      <td>37800.71</td>\n",
       "      <td>4035.40</td>\n",
       "      <td>...</td>\n",
       "      <td>0.0</td>\n",
       "      <td>21</td>\n",
       "      <td>380616.14</td>\n",
       "      <td>-97383.25</td>\n",
       "      <td>0.00</td>\n",
       "      <td>7827</td>\n",
       "      <td>359610.70</td>\n",
       "      <td>31</td>\n",
       "      <td>0</td>\n",
       "      <td>15600.90</td>\n",
       "    </tr>\n",
       "  </tbody>\n",
       "</table>\n",
       "<p>5 rows × 154 columns</p>\n",
       "</div>"
      ],
      "text/plain": [
       "   numero_de_cliente  foto_mes  active_quarter  cliente_vip  internet  \\\n",
       "0           29183981    202103               1            0         0   \n",
       "1           29184630    202103               1            0         0   \n",
       "2           29185433    202103               1            0         0   \n",
       "3           29185587    202103               1            0         0   \n",
       "4           29185646    202103               1            0         0   \n",
       "\n",
       "   cliente_edad  cliente_antiguedad  mrentabilidad  mrentabilidad_annual  \\\n",
       "0            50                 197       14468.81             125765.29   \n",
       "1            59                 322       11901.57              74158.93   \n",
       "2            68                 268         847.15              21672.47   \n",
       "3            79                 322        4976.94              47735.98   \n",
       "4            60                 257        2860.45              37800.71   \n",
       "\n",
       "   mcomisiones  ...  Visa_madelantodolares  Visa_fultimo_cierre  Visa_mpagado  \\\n",
       "0      2389.82  ...                    0.0                    7          0.00   \n",
       "1     18750.68  ...                    0.0                    1          0.00   \n",
       "2       481.62  ...                    0.0                   21       4692.00   \n",
       "3      1839.31  ...                    0.0                    1          0.00   \n",
       "4      4035.40  ...                    0.0                   21     380616.14   \n",
       "\n",
       "   Visa_mpagospesos  Visa_mpagosdolares  Visa_fechaalta  Visa_mconsumototal  \\\n",
       "0        -114954.00                0.00            5938           101050.66   \n",
       "1         -40330.15               17.59            4089            26834.09   \n",
       "2          -1173.00                0.00            7829             1651.36   \n",
       "3         -15988.67                0.00            7580            30025.29   \n",
       "4         -97383.25                0.00            7827           359610.70   \n",
       "\n",
       "   Visa_cconsumos  Visa_cadelantosefectivo  Visa_mpagominimo  \n",
       "0              68                        0          71811.06  \n",
       "1               7                        0           3894.36  \n",
       "2               3                        0           1560.09  \n",
       "3              11                        0           1700.85  \n",
       "4              31                        0          15600.90  \n",
       "\n",
       "[5 rows x 154 columns]"
      ]
     },
     "execution_count": 4,
     "metadata": {},
     "output_type": "execute_result"
    }
   ],
   "source": [
    "%sql select * from competencia_01 limit 5"
   ]
  },
  {
   "cell_type": "code",
   "execution_count": 5,
   "metadata": {},
   "outputs": [
    {
     "data": {
      "text/html": [
       "<div>\n",
       "<style scoped>\n",
       "    .dataframe tbody tr th:only-of-type {\n",
       "        vertical-align: middle;\n",
       "    }\n",
       "\n",
       "    .dataframe tbody tr th {\n",
       "        vertical-align: top;\n",
       "    }\n",
       "\n",
       "    .dataframe thead th {\n",
       "        text-align: right;\n",
       "    }\n",
       "</style>\n",
       "<table border=\"1\" class=\"dataframe\">\n",
       "  <thead>\n",
       "    <tr style=\"text-align: right;\">\n",
       "      <th></th>\n",
       "      <th>foto_mes</th>\n",
       "      <th>cantidad</th>\n",
       "    </tr>\n",
       "  </thead>\n",
       "  <tbody>\n",
       "    <tr>\n",
       "      <th>0</th>\n",
       "      <td>202103</td>\n",
       "      <td>163324</td>\n",
       "    </tr>\n",
       "    <tr>\n",
       "      <th>1</th>\n",
       "      <td>202104</td>\n",
       "      <td>163637</td>\n",
       "    </tr>\n",
       "    <tr>\n",
       "      <th>2</th>\n",
       "      <td>202105</td>\n",
       "      <td>164102</td>\n",
       "    </tr>\n",
       "  </tbody>\n",
       "</table>\n",
       "</div>"
      ],
      "text/plain": [
       "   foto_mes  cantidad\n",
       "0    202103    163324\n",
       "1    202104    163637\n",
       "2    202105    164102"
      ]
     },
     "execution_count": 5,
     "metadata": {},
     "output_type": "execute_result"
    }
   ],
   "source": [
    "%%sql\n",
    "select \n",
    "    foto_mes\n",
    "    , count(*) as cantidad -- cuenta cuantos casos hay en cada foto_mes \n",
    "                           -- y lo guarda en un campo llamado cantidad\n",
    "from competencia_01\n",
    "group by foto_mes"
   ]
  },
  {
   "cell_type": "code",
   "execution_count": 53,
   "metadata": {},
   "outputs": [
    {
     "data": {
      "text/html": [
       "<div>\n",
       "<style scoped>\n",
       "    .dataframe tbody tr th:only-of-type {\n",
       "        vertical-align: middle;\n",
       "    }\n",
       "\n",
       "    .dataframe tbody tr th {\n",
       "        vertical-align: top;\n",
       "    }\n",
       "\n",
       "    .dataframe thead th {\n",
       "        text-align: right;\n",
       "    }\n",
       "</style>\n",
       "<table border=\"1\" class=\"dataframe\">\n",
       "  <thead>\n",
       "    <tr style=\"text-align: right;\">\n",
       "      <th></th>\n",
       "      <th>numero_de_cliente</th>\n",
       "      <th>foto_mes</th>\n",
       "      <th>numero_de_cliente_2</th>\n",
       "    </tr>\n",
       "  </thead>\n",
       "  <tbody>\n",
       "    <tr>\n",
       "      <th>0</th>\n",
       "      <td>29282120</td>\n",
       "      <td>202103</td>\n",
       "      <td>NaN</td>\n",
       "    </tr>\n",
       "    <tr>\n",
       "      <th>1</th>\n",
       "      <td>29358824</td>\n",
       "      <td>202103</td>\n",
       "      <td>NaN</td>\n",
       "    </tr>\n",
       "    <tr>\n",
       "      <th>2</th>\n",
       "      <td>29379652</td>\n",
       "      <td>202103</td>\n",
       "      <td>NaN</td>\n",
       "    </tr>\n",
       "    <tr>\n",
       "      <th>3</th>\n",
       "      <td>29413956</td>\n",
       "      <td>202103</td>\n",
       "      <td>NaN</td>\n",
       "    </tr>\n",
       "    <tr>\n",
       "      <th>4</th>\n",
       "      <td>29479114</td>\n",
       "      <td>202103</td>\n",
       "      <td>NaN</td>\n",
       "    </tr>\n",
       "    <tr>\n",
       "      <th>...</th>\n",
       "      <td>...</td>\n",
       "      <td>...</td>\n",
       "      <td>...</td>\n",
       "    </tr>\n",
       "    <tr>\n",
       "      <th>2976</th>\n",
       "      <td>181504495</td>\n",
       "      <td>202104</td>\n",
       "      <td>NaN</td>\n",
       "    </tr>\n",
       "    <tr>\n",
       "      <th>2977</th>\n",
       "      <td>182321662</td>\n",
       "      <td>202104</td>\n",
       "      <td>NaN</td>\n",
       "    </tr>\n",
       "    <tr>\n",
       "      <th>2978</th>\n",
       "      <td>182463626</td>\n",
       "      <td>202104</td>\n",
       "      <td>NaN</td>\n",
       "    </tr>\n",
       "    <tr>\n",
       "      <th>2979</th>\n",
       "      <td>185451295</td>\n",
       "      <td>202104</td>\n",
       "      <td>NaN</td>\n",
       "    </tr>\n",
       "    <tr>\n",
       "      <th>2980</th>\n",
       "      <td>185837052</td>\n",
       "      <td>202104</td>\n",
       "      <td>NaN</td>\n",
       "    </tr>\n",
       "  </tbody>\n",
       "</table>\n",
       "<p>2981 rows × 3 columns</p>\n",
       "</div>"
      ],
      "text/plain": [
       "      numero_de_cliente  foto_mes  numero_de_cliente_2\n",
       "0              29282120    202103                  NaN\n",
       "1              29358824    202103                  NaN\n",
       "2              29379652    202103                  NaN\n",
       "3              29413956    202103                  NaN\n",
       "4              29479114    202103                  NaN\n",
       "...                 ...       ...                  ...\n",
       "2976          181504495    202104                  NaN\n",
       "2977          182321662    202104                  NaN\n",
       "2978          182463626    202104                  NaN\n",
       "2979          185451295    202104                  NaN\n",
       "2980          185837052    202104                  NaN\n",
       "\n",
       "[2981 rows x 3 columns]"
      ]
     },
     "execution_count": 53,
     "metadata": {},
     "output_type": "execute_result"
    }
   ],
   "source": [
    "%%sql \n",
    "with mes_1 as (\n",
    "select numero_de_cliente\n",
    "from competencia_01\n",
    "where foto_mes = '202105')\n",
    "\n",
    "select comp.numero_de_cliente,\n",
    "comp.foto_mes,\n",
    "c.numero_de_cliente\n",
    "from competencia_01 comp\n",
    "left join mes_1 c\n",
    "    on comp.numero_de_cliente = c.numero_de_cliente\n",
    "where c.numero_de_cliente is null"
   ]
  },
  {
   "cell_type": "markdown",
   "metadata": {},
   "source": [
    "Perfecto, ahora cree una nueva tabla con la variable adicional que se le pide. Algunas funciones que le pueden ser útiles:  [where](https://duckdb.org/docs/sql/query_syntax/where), [left join](https://duckdb.org/docs/sql/query_syntax/from), [case statement](https://duckdb.org/docs/sql/expressions/case)\n",
    "\n"
   ]
  },
  {
   "cell_type": "code",
   "execution_count": 7,
   "metadata": {},
   "outputs": [
    {
     "name": "stderr",
     "output_type": "stream",
     "text": [
      "RuntimeError: (duckdb.InvalidInputException) Invalid Input Error: Attempting to execute an unsuccessful or closed pending query result\n",
      "Error: Invalid Error: Current transaction is aborted (please ROLLBACK)\n",
      "[SQL: select numero_de_cliente,\n",
      "foto_mes\n",
      "from competencia_01\n",
      "where numero_de_cliente in (29282120, 181504495, 29183981) -- primer caso baja +1, segundo caso baja +2\n",
      "order by 2]\n",
      "(Background on this error at: https://sqlalche.me/e/20/f405)\n",
      "If you need help solving this issue, send us a message: https://ploomber.io/community\n"
     ]
    }
   ],
   "source": [
    "%%sql \n",
    "select numero_de_cliente,\n",
    "foto_mes\n",
    "from competencia_01\n",
    "where numero_de_cliente in (29282120, 181504495, 29183981) -- primer caso baja +1, segundo caso baja +2\n",
    "order by 2\n"
   ]
  },
  {
   "cell_type": "code",
   "execution_count": 15,
   "metadata": {
    "vscode": {
     "languageId": "sql"
    }
   },
   "outputs": [
    {
     "data": {
      "text/html": [
       "<div>\n",
       "<style scoped>\n",
       "    .dataframe tbody tr th:only-of-type {\n",
       "        vertical-align: middle;\n",
       "    }\n",
       "\n",
       "    .dataframe tbody tr th {\n",
       "        vertical-align: top;\n",
       "    }\n",
       "\n",
       "    .dataframe thead th {\n",
       "        text-align: right;\n",
       "    }\n",
       "</style>\n",
       "<table border=\"1\" class=\"dataframe\">\n",
       "  <thead>\n",
       "    <tr style=\"text-align: right;\">\n",
       "      <th></th>\n",
       "      <th>Success</th>\n",
       "    </tr>\n",
       "  </thead>\n",
       "  <tbody>\n",
       "  </tbody>\n",
       "</table>\n",
       "</div>"
      ],
      "text/plain": [
       "Empty DataFrame\n",
       "Columns: [Success]\n",
       "Index: []"
      ]
     },
     "execution_count": 15,
     "metadata": {},
     "output_type": "execute_result"
    }
   ],
   "source": [
    "%%sql\n",
    "\n",
    "create or replace temp table competencia_01_ternaria as \n",
    "    with clientes as (\n",
    "        select \n",
    "            numero_de_cliente,\n",
    "            foto_mes,\n",
    "            last_day(strptime(foto_mes, '%Y%m') + INTERVAL 1 MONTH) as mes_mas_1,\n",
    "            last_day(strptime(foto_mes, '%Y%m') + INTERVAL 2 MONTH) as mes_mas_2,\n",
    "        from competencia_01\n",
    "    ),\n",
    "\n",
    "    mes_1 as (\n",
    "        select \n",
    "            c.numero_de_cliente,\n",
    "            c.foto_mes,\n",
    "            c1.numero_de_cliente as cliente_mas_1\n",
    "        from clientes c \n",
    "        left join competencia_01 c1\n",
    "            on c.numero_de_cliente = c1.numero_de_cliente\n",
    "            and c.mes_mas_1 = last_day(strptime(c1.foto_mes, '%Y%m'))\n",
    "     ),\n",
    "\n",
    "    mes_2 as (\n",
    "        select \n",
    "            c.numero_de_cliente,\n",
    "            c.foto_mes,\n",
    "            c1.numero_de_cliente as cliente_mas_2\n",
    "        from clientes c \n",
    "        left join competencia_01 c1\n",
    "            on c.numero_de_cliente = c1.numero_de_cliente\n",
    "            and c.mes_mas_2 = last_day(strptime(c1.foto_mes, '%Y%m'))\n",
    "    ),\n",
    "\n",
    "    max_mes as (\n",
    "        select \n",
    "            strptime(MAX(foto_mes),'%Y%m') as max_foto\n",
    "        from competencia_01\n",
    "        --group by 1\n",
    "    ),\n",
    "\n",
    "    final as (\n",
    "    select \n",
    "        c1.*,      \n",
    "        case\n",
    "            when \n",
    "                cliente_mas_1 is not null \n",
    "                and cliente_mas_2 is null\n",
    "                and strptime(c1.foto_mes, '%Y%m') = m.max_foto - INTERVAL 2 MONTH\n",
    "            then 'BAJA+2'\n",
    "            when \n",
    "                cliente_mas_1 is null \n",
    "                and cliente_mas_2 is null\n",
    "                and strptime(c1.foto_mes, '%Y%m') <= m.max_foto - INTERVAL 1 MONTH\n",
    "            then 'BAJA+1'\n",
    "            when \n",
    "                (strptime(c1.foto_mes, '%Y%m') <= m.max_foto - INTERVAL 1 MONTH and cliente_mas_1 is not null)\n",
    "                or \n",
    "                cliente_mas_2 is not null \n",
    "            then 'CONTINUA'\n",
    "            else null end clase_ternaria\n",
    "    from competencia_01 c1\n",
    "    left join mes_1 m1 \n",
    "        on m1.cliente_mas_1 = c1.numero_de_cliente\n",
    "        and c1.foto_mes = m1.foto_mes\n",
    "    left join mes_2 m2 \n",
    "        on m2.cliente_mas_2 = c1.numero_de_cliente\n",
    "        and c1.foto_mes = m2.foto_mes\n",
    "    cross join max_mes m\n",
    "    )\n",
    "    \n",
    "    select \n",
    "       *\n",
    "    from final \n"
   ]
  },
  {
   "cell_type": "code",
   "execution_count": 18,
   "metadata": {
    "vscode": {
     "languageId": "sql"
    }
   },
   "outputs": [
    {
     "data": {
      "text/html": [
       "<div>\n",
       "<style scoped>\n",
       "    .dataframe tbody tr th:only-of-type {\n",
       "        vertical-align: middle;\n",
       "    }\n",
       "\n",
       "    .dataframe tbody tr th {\n",
       "        vertical-align: top;\n",
       "    }\n",
       "\n",
       "    .dataframe thead th {\n",
       "        text-align: right;\n",
       "    }\n",
       "</style>\n",
       "<table border=\"1\" class=\"dataframe\">\n",
       "  <thead>\n",
       "    <tr style=\"text-align: right;\">\n",
       "      <th></th>\n",
       "      <th>clase_ternaria</th>\n",
       "      <th>count_star()</th>\n",
       "    </tr>\n",
       "  </thead>\n",
       "  <tbody>\n",
       "    <tr>\n",
       "      <th>0</th>\n",
       "      <td>CONTINUA</td>\n",
       "      <td>161312</td>\n",
       "    </tr>\n",
       "    <tr>\n",
       "      <th>1</th>\n",
       "      <td>BAJA+2</td>\n",
       "      <td>963</td>\n",
       "    </tr>\n",
       "    <tr>\n",
       "      <th>2</th>\n",
       "      <td>BAJA+1</td>\n",
       "      <td>1049</td>\n",
       "    </tr>\n",
       "  </tbody>\n",
       "</table>\n",
       "</div>"
      ],
      "text/plain": [
       "  clase_ternaria  count_star()\n",
       "0       CONTINUA        161312\n",
       "1         BAJA+2           963\n",
       "2         BAJA+1          1049"
      ]
     },
     "execution_count": 18,
     "metadata": {},
     "output_type": "execute_result"
    }
   ],
   "source": [
    "%%sql\n",
    "select clase_ternaria, count(*) \n",
    "from competencia_01_ternaria\n",
    "where foto_mes = '202103'\n",
    "group by 1"
   ]
  },
  {
   "cell_type": "code",
   "execution_count": 17,
   "metadata": {
    "vscode": {
     "languageId": "sql"
    }
   },
   "outputs": [
    {
     "data": {
      "text/html": [
       "<div>\n",
       "<style scoped>\n",
       "    .dataframe tbody tr th:only-of-type {\n",
       "        vertical-align: middle;\n",
       "    }\n",
       "\n",
       "    .dataframe tbody tr th {\n",
       "        vertical-align: top;\n",
       "    }\n",
       "\n",
       "    .dataframe thead th {\n",
       "        text-align: right;\n",
       "    }\n",
       "</style>\n",
       "<table border=\"1\" class=\"dataframe\">\n",
       "  <thead>\n",
       "    <tr style=\"text-align: right;\">\n",
       "      <th></th>\n",
       "      <th>Success</th>\n",
       "    </tr>\n",
       "  </thead>\n",
       "  <tbody>\n",
       "  </tbody>\n",
       "</table>\n",
       "</div>"
      ],
      "text/plain": [
       "Empty DataFrame\n",
       "Columns: [Success]\n",
       "Index: []"
      ]
     },
     "execution_count": 17,
     "metadata": {},
     "output_type": "execute_result"
    }
   ],
   "source": [
    "%%sql\n",
    "COPY competencia_01_ternaria TO 'C:\\Users\\feder\\Documents\\Maestria_en_Ciencia_de_datos\\4_DM_en_Economia_y_Finanzas\\datasets/competencia_01.csv' (FORMAT CSV, HEADER)"
   ]
  },
  {
   "cell_type": "markdown",
   "metadata": {},
   "source": [
    "## Ejercicio 1.1\n",
    "\n",
    "* ¿Cuál es la nominalidad de cada clase?\n",
    "* ¿Cuál es la proporción del target?"
   ]
  },
  {
   "cell_type": "code",
   "execution_count": null,
   "metadata": {},
   "outputs": [],
   "source": [
    "%%sql\n",
    "-- introduzca sus queries"
   ]
  },
  {
   "cell_type": "markdown",
   "metadata": {},
   "source": [
    "Para guardar a un **.csv** simplemente debe ejecutar la siguiente sentencia"
   ]
  },
  {
   "cell_type": "code",
   "execution_count": null,
   "metadata": {},
   "outputs": [],
   "source": [
    "%%sql\n",
    "COPY competencia_01 TO '/home/aleb/dmeyf23/datasets/competencia_01.csv' (FORMAT CSV, HEADER)"
   ]
  },
  {
   "cell_type": "markdown",
   "metadata": {},
   "source": [
    "## Ejercicio 2 - Avanzado\n",
    "Use ahora el archivo `ejercicio_target.csv` y calcule para todos los clientes en todos los periodos su **clase_ternaria** al mismo tiempo"
   ]
  }
 ],
 "metadata": {
  "kernelspec": {
   "display_name": "Python 3",
   "language": "python",
   "name": "python3"
  },
  "language_info": {
   "codemirror_mode": {
    "name": "ipython",
    "version": 3
   },
   "file_extension": ".py",
   "mimetype": "text/x-python",
   "name": "python",
   "nbconvert_exporter": "python",
   "pygments_lexer": "ipython3",
   "version": "3.11.4"
  },
  "orig_nbformat": 4
 },
 "nbformat": 4,
 "nbformat_minor": 2
}
